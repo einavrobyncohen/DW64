{
 "cells": [
  {
   "cell_type": "markdown",
   "metadata": {},
   "source": [
    "# Netflix Engagement Reports 2023\n",
    "## Step 0: Install libraries"
   ]
  },
  {
   "cell_type": "code",
   "execution_count": 1,
   "metadata": {},
   "outputs": [],
   "source": [
    "#!pip install pandas"
   ]
  },
  {
   "cell_type": "code",
   "execution_count": 2,
   "metadata": {},
   "outputs": [],
   "source": [
    "#!pip install numpy"
   ]
  },
  {
   "cell_type": "code",
   "execution_count": 3,
   "metadata": {},
   "outputs": [],
   "source": [
    "#!pip install openpyxl"
   ]
  },
  {
   "cell_type": "markdown",
   "metadata": {},
   "source": [
    "## Step 1: Import libraries and set options"
   ]
  },
  {
   "cell_type": "code",
   "execution_count": 4,
   "metadata": {},
   "outputs": [],
   "source": [
    "import pandas as pd\n",
    "import numpy as np\n",
    "from datetime import datetime\n",
    "\n",
    "pd.set_option(\"display.max_rows\", 10)\n",
    "np.set_printoptions(precision=4, suppress=True)"
   ]
  },
  {
   "cell_type": "markdown",
   "metadata": {},
   "source": [
    "## Step 2: Read Excel files"
   ]
  },
  {
   "cell_type": "code",
   "execution_count": 5,
   "metadata": {},
   "outputs": [],
   "source": [
    "fn1: str = 'What_We_Watched_A_Netflix_Engagement_Report_2023Jan-Jun.xlsx'\n",
    "fn2: str = 'What_We_Watched_A_Netflix_Engagement_Report_2023Jul-Dec.xlsx'\n",
    "\n",
    "cols: str = 'B:E'\n",
    "\n",
    "df1 = pd.read_excel(\n",
    "    fn1, \n",
    "    # no separate sheets for TV and movies here!\n",
    "    header=5, \n",
    "    usecols=cols\n",
    ")\n",
    "\n",
    "df2 = pd.read_excel(\n",
    "    fn2, \n",
    "    sheet_name='TV',\n",
    "    header=5,\n",
    "    usecols=cols\n",
    ")"
   ]
  },
  {
   "cell_type": "markdown",
   "metadata": {},
   "source": [
    "### Inspect DataFrame for Jan-Jun 2023:"
   ]
  },
  {
   "cell_type": "code",
   "execution_count": null,
   "metadata": {},
   "outputs": [],
   "source": [
    "df1"
   ]
  },
  {
   "cell_type": "markdown",
   "metadata": {},
   "source": [
    "### Inspect DataFrame for Jul-Dec 2023:"
   ]
  },
  {
   "cell_type": "code",
   "execution_count": null,
   "metadata": {},
   "outputs": [],
   "source": [
    "df2"
   ]
  },
  {
   "cell_type": "markdown",
   "metadata": {},
   "source": [
    "## Step 3: Concatenate DataFrames and filter"
   ]
  },
  {
   "cell_type": "markdown",
   "metadata": {},
   "source": [
    "### Concatenated DataFrame:"
   ]
  },
  {
   "cell_type": "code",
   "execution_count": null,
   "metadata": {},
   "outputs": [],
   "source": [
    "df = pd.concat([df1, df2]).reset_index(drop=True)\n",
    "df"
   ]
  },
  {
   "cell_type": "code",
   "execution_count": null,
   "metadata": {},
   "outputs": [],
   "source": [
    "df['Release Date'] = pd.to_datetime(df['Release Date'])\n",
    "df"
   ]
  },
  {
   "cell_type": "markdown",
   "metadata": {},
   "source": [
    "### Titles released 1-1-2023 or later:"
   ]
  },
  {
   "cell_type": "code",
   "execution_count": null,
   "metadata": {},
   "outputs": [],
   "source": [
    "date_mask: pd.Series = df['Release Date'] > datetime(year=2022, month=12, day=31)\n",
    "df = df[date_mask]\n",
    "df"
   ]
  },
  {
   "cell_type": "markdown",
   "metadata": {},
   "source": [
    "### Excluding movies:\n",
    "\n",
    "Issue (#todo): 'Queen Charlotte: A Bridgerton Story' is a TV series; not a movie. How to handle cases like this one? Do we use the IMDb dataset to match titles and retrieve the `titleType` from `title.basics.tsv.gz`?"
   ]
  },
  {
   "cell_type": "code",
   "execution_count": null,
   "metadata": {},
   "outputs": [],
   "source": [
    "season_mask = df['Title'].str.contains('Season', regex=False)\n",
    "no_season_mask = ~season_mask\n",
    "no_season: pd.DataFrame = df[no_season_mask]\n",
    "\n",
    "series_mask = df['Title'].str.contains('Series', regex=False)\n",
    "no_series_mask = ~series_mask\n",
    "no_series: pd.DataFrame = no_season[no_series_mask]\n",
    "\n",
    "no_series"
   ]
  },
  {
   "cell_type": "markdown",
   "metadata": {},
   "source": [
    "## Step 4: Group by title to find total hours viewed"
   ]
  },
  {
   "cell_type": "code",
   "execution_count": null,
   "metadata": {},
   "outputs": [],
   "source": [
    "total_views: pd.Series = df.groupby('Title')['Hours Viewed'].sum()\n",
    "total_views"
   ]
  }
 ],
 "metadata": {
  "kernelspec": {
   "display_name": ".venv",
   "language": "python",
   "name": "python3"
  },
  "language_info": {
   "codemirror_mode": {
    "name": "ipython",
    "version": 3
   },
   "file_extension": ".py",
   "mimetype": "text/x-python",
   "name": "python",
   "nbconvert_exporter": "python",
   "pygments_lexer": "ipython3",
   "version": "3.10.0"
  }
 },
 "nbformat": 4,
 "nbformat_minor": 2
}
