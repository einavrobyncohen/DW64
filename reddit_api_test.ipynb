{
 "cells": [
  {
   "cell_type": "markdown",
   "metadata": {},
   "source": [
    "# Netflix Show Cancellations: Reddit API Analysis TEST\n"
   ]
  },
  {
   "cell_type": "markdown",
   "metadata": {},
   "source": [
    "## Step 1: Install Required Libraries + Set Up the Reddit API Connection\n",
    "Before using the Reddit API, we need to install the `praw` library. It simplifies authentication and API interactions."
   ]
  },
  {
   "cell_type": "code",
   "execution_count": 2,
   "metadata": {},
   "outputs": [],
   "source": [
    "# Install the required library\n",
    "#!pip install praw"
   ]
  },
  {
   "cell_type": "code",
   "execution_count": null,
   "metadata": {},
   "outputs": [],
   "source": [
    "import praw\n",
    "print(\"praw library imported successfully!\")"
   ]
  },
  {
   "cell_type": "code",
   "execution_count": null,
   "metadata": {},
   "outputs": [],
   "source": [
    "#!pip install python-dotenv\n",
    "#This is needed to create an .env for your API credentials. We dont want random people having access to our keys!"
   ]
  },
  {
   "cell_type": "markdown",
   "metadata": {},
   "source": [
    "### Create Reddit app\n",
    "1. Go to Reddit Apps (https://www.reddit.com/prefs/apps) to create a new Reddit app\n",
    "2. Select app type 'script'\n",
    "3. Enter name (e.g., DW64) and description (e.g., Data Wrangling 64)\n",
    "4. Enter redirect uri http://localhost:8080 and click 'create app'\n",
    "5. Create a file '.env' in your git project folder in which you define:\\\n",
    "CLIENT_ID=[whatever's under 'personal use script' on the Reddit app page]\\\n",
    "CLIENT_SECRET=[whatever's next to 'secret' on the Reddit page]\\\n",
    "USER_AGENT=your_reddit_username"
   ]
  },
  {
   "cell_type": "code",
   "execution_count": null,
   "metadata": {},
   "outputs": [],
   "source": [
    "import praw\n",
    "from dotenv import load_dotenv\n",
    "import os\n",
    "\n",
    "# Load environment variables from the .env file\n",
    "load_dotenv()\n",
    "\n",
    "# Retrieve credentials from environment variables\n",
    "CLIENT_ID = os.getenv('CLIENT_ID')\n",
    "CLIENT_SECRET = os.getenv('CLIENT_SECRET')\n",
    "USER_AGENT = os.getenv('USER_AGENT')\n",
    "\n",
    "# Authenticate with Reddit API\n",
    "reddit = praw.Reddit(\n",
    "    client_id=CLIENT_ID,\n",
    "    client_secret=CLIENT_SECRET,\n",
    "    user_agent=USER_AGENT\n",
    ")\n",
    "\n",
    "# Test connection\n",
    "print(\"Reddit API is read-only:\", reddit.read_only)"
   ]
  },
  {
   "cell_type": "markdown",
   "metadata": {},
   "source": [
    "## Step 2: Test Access to the Subreddits\n",
    "verify that we can access the two subreddits (`r/NetflixBestOf` and `r/television`) using the Reddit API."
   ]
  },
  {
   "cell_type": "code",
   "execution_count": null,
   "metadata": {},
   "outputs": [],
   "source": [
    "# Test access to the subreddits\n",
    "subreddits_to_test = ['NetflixBestOf', 'television']\n",
    "\n",
    "for subreddit_name in subreddits_to_test:\n",
    "    try:\n",
    "        subreddit = reddit.subreddit(subreddit_name)  # Access subreddit\n",
    "        print(f\"Successfully accessed subreddit: {subreddit.display_name}\")\n",
    "    except Exception as e:\n",
    "        print(f\"Error accessing subreddit {subreddit_name}: {e}\")"
   ]
  },
  {
   "cell_type": "markdown",
   "metadata": {},
   "source": [
    "### Step 2.1: Search for Posts with \"Mindhunter\" in the Title (Scenario 2)\n",
    "We will search the two subreddits for posts that include the title of the show (\"Mindhunter\") in their post titles.\n"
   ]
  },
  {
   "cell_type": "code",
   "execution_count": 11,
   "metadata": {},
   "outputs": [],
   "source": [
    "# install pandas if you haven't already\n",
    "#!pip install pandas"
   ]
  },
  {
   "cell_type": "code",
   "execution_count": null,
   "metadata": {},
   "outputs": [],
   "source": [
    "import pandas as pd\n",
    "\n",
    "# Search for posts with \"Mindhunter\" in the title\n",
    "show_title = \"Mindhunter\"  # The show we're testing\n",
    "subreddits_to_test = ['NetflixBestOf', 'television']\n",
    "posts_with_title = []  # List to store results\n",
    "\n",
    "for subreddit_name in subreddits_to_test:\n",
    "    print(f\"Searching in subreddit: {subreddit_name}\")\n",
    "    try:\n",
    "        subreddit = reddit.subreddit(subreddit_name)\n",
    "        for post in subreddit.search(show_title, limit=10):  # Limit to 10 posts\n",
    "            posts_with_title.append({\n",
    "                'Subreddit': subreddit_name,\n",
    "                'Title': post.title,\n",
    "                'Num_Comments': post.num_comments,\n",
    "                'Upvotes': post.score,\n",
    "                'Post_ID': post.id,\n",
    "                'Created_UTC': post.created_utc\n",
    "            })\n",
    "    except Exception as e:\n",
    "        print(f\"Error searching subreddit {subreddit_name}: {e}\")\n",
    "\n",
    "# Convert results to DataFrame for easier analysis\n",
    "if posts_with_title:\n",
    "    posts_df = pd.DataFrame(posts_with_title)\n",
    "    print(f\"Found {len(posts_df)} posts with '{show_title}' in the title:\")\n",
    "    display(posts_df)\n",
    "else:\n",
    "    print(f\"No posts with '{show_title}' in the title found.\")\n"
   ]
  },
  {
   "cell_type": "markdown",
   "metadata": {},
   "source": [
    "## Step 3.4.3: Search for Comments Mentioning \"Mindhunter\" (For scenario 1- assume no posts with Minhunter in title were found)\n",
    "We will search all posts in the two subreddits for comments that mention \"Mindhunter.\"\n"
   ]
  },
  {
   "cell_type": "code",
   "execution_count": null,
   "metadata": {},
   "outputs": [],
   "source": [
    "# Search all comments in a subreddit for mentions of \"Mindhunter\"\n",
    "show_title = \"Mindhunter\"  # The show we're testing\n",
    "subreddit_name = \"NetflixBestOf\"  # Choose one subreddit to test\n",
    "comments_with_show = []  # List to store matching comments\n",
    "\n",
    "try:\n",
    "    subreddit = reddit.subreddit(subreddit_name)\n",
    "    print(f\"Searching all comments in subreddit: {subreddit_name}\")\n",
    "\n",
    "    # Stream all comments from the subreddit (can be computationally expensive for large subreddits)\n",
    "    for comment in subreddit.comments(limit=5000):  # Limit to the most recent 50 comments for testing\n",
    "        if show_title.lower() in comment.body.lower():  # Check if show is mentioned\n",
    "            comments_with_show.append({\n",
    "                'Subreddit': subreddit_name,\n",
    "                'Comment': comment.body,\n",
    "                'Upvotes': comment.score,\n",
    "                'Comment_ID': comment.id,\n",
    "                'Created_UTC': comment.created_utc\n",
    "            })\n",
    "except Exception as e:\n",
    "    print(f\"Error accessing comments in subreddit {subreddit_name}: {e}\")\n",
    "\n",
    "# Convert results to a DataFrame for better readability\n",
    "if comments_with_show:\n",
    "    comments_df = pd.DataFrame(comments_with_show)\n",
    "    print(f\"Found {len(comments_df)} comments mentioning '{show_title}':\")\n",
    "    display(comments_df)\n",
    "else:\n",
    "    print(f\"No comments mentioning '{show_title}' found in subreddit {subreddit_name}.\")\n"
   ]
  }
 ],
 "metadata": {
  "kernelspec": {
   "display_name": ".venv",
   "language": "python",
   "name": "python3"
  },
  "language_info": {
   "codemirror_mode": {
    "name": "ipython",
    "version": 3
   },
   "file_extension": ".py",
   "mimetype": "text/x-python",
   "name": "python",
   "nbconvert_exporter": "python",
   "pygments_lexer": "ipython3",
   "version": "3.10.0"
  }
 },
 "nbformat": 4,
 "nbformat_minor": 2
}
