{
 "cells": [
  {
   "cell_type": "markdown",
   "metadata": {},
   "source": [
    "# Netflix Show Cancellations: Reddit API Analysis TEST\n"
   ]
  },
  {
   "cell_type": "markdown",
   "metadata": {},
   "source": [
    "## Step 1: Install Required Libraries + Set Up the Reddit API Connection\n",
    "Before using the Reddit API, we need to install the `praw` library. It simplifies authentication and API interactions."
   ]
  },
  {
   "cell_type": "code",
   "execution_count": 2,
   "metadata": {},
   "outputs": [],
   "source": [
    "# Install the required library\n",
    "#!pip install praw"
   ]
  },
  {
   "cell_type": "code",
   "execution_count": null,
   "metadata": {},
   "outputs": [],
   "source": [
    "import praw\n",
    "print(\"praw library imported successfully!\")"
   ]
  },
  {
   "cell_type": "code",
   "execution_count": null,
   "metadata": {},
   "outputs": [],
   "source": [
    "#!pip install python-dotenv\n",
    "#This is needed to create an .env for your API credentials. We dont want random people having access to our keys!"
   ]
  },
  {
   "cell_type": "markdown",
   "metadata": {},
   "source": [
    "### Create Reddit app\n",
    "1. Go to Reddit Apps (https://www.reddit.com/prefs/apps) to create a new Reddit app\n",
    "2. Select app type 'script'\n",
    "3. Enter name (e.g., DW64) and description (e.g., Data Wrangling 64)\n",
    "4. Enter redirect uri http://localhost:8080 and click 'create app'\n",
    "5. Create a file '.env' in your git project folder in which you define:\\\n",
    "CLIENT_ID=[whatever's under 'personal use script' on the Reddit app page]\\\n",
    "CLIENT_SECRET=[whatever's next to 'secret' on the Reddit page]\\\n",
    "USER_AGENT=your_reddit_username"
   ]
  },
  {
   "cell_type": "code",
   "execution_count": 1,
   "metadata": {},
   "outputs": [
    {
     "ename": "MissingRequiredAttributeException",
     "evalue": "Required configuration setting 'user_agent' missing. \nThis setting can be provided in a praw.ini file, as a keyword argument to the Reddit class constructor, or as an environment variable.",
     "output_type": "error",
     "traceback": [
      "\u001b[0;31m---------------------------------------------------------------------------\u001b[0m",
      "\u001b[0;31mMissingRequiredAttributeException\u001b[0m         Traceback (most recent call last)",
      "Cell \u001b[0;32mIn[1], line 14\u001b[0m\n\u001b[1;32m     11\u001b[0m USER_AGENT \u001b[38;5;241m=\u001b[39m os\u001b[38;5;241m.\u001b[39mgetenv(\u001b[38;5;124m'\u001b[39m\u001b[38;5;124mUSER_AGENT\u001b[39m\u001b[38;5;124m'\u001b[39m)\n\u001b[1;32m     13\u001b[0m \u001b[38;5;66;03m# Authenticate with Reddit API\u001b[39;00m\n\u001b[0;32m---> 14\u001b[0m reddit \u001b[38;5;241m=\u001b[39m \u001b[43mpraw\u001b[49m\u001b[38;5;241;43m.\u001b[39;49m\u001b[43mReddit\u001b[49m\u001b[43m(\u001b[49m\n\u001b[1;32m     15\u001b[0m \u001b[43m    \u001b[49m\u001b[43mclient_id\u001b[49m\u001b[38;5;241;43m=\u001b[39;49m\u001b[43mCLIENT_ID\u001b[49m\u001b[43m,\u001b[49m\n\u001b[1;32m     16\u001b[0m \u001b[43m    \u001b[49m\u001b[43mclient_secret\u001b[49m\u001b[38;5;241;43m=\u001b[39;49m\u001b[43mCLIENT_SECRET\u001b[49m\u001b[43m,\u001b[49m\n\u001b[1;32m     17\u001b[0m \u001b[43m    \u001b[49m\u001b[43muser_agent\u001b[49m\u001b[38;5;241;43m=\u001b[39;49m\u001b[43mUSER_AGENT\u001b[49m\n\u001b[1;32m     18\u001b[0m \u001b[43m)\u001b[49m\n\u001b[1;32m     20\u001b[0m \u001b[38;5;66;03m# Test connection\u001b[39;00m\n\u001b[1;32m     21\u001b[0m \u001b[38;5;28mprint\u001b[39m(\u001b[38;5;124m\"\u001b[39m\u001b[38;5;124mReddit API is read-only:\u001b[39m\u001b[38;5;124m\"\u001b[39m, reddit\u001b[38;5;241m.\u001b[39mread_only)\n",
      "File \u001b[0;32m/Library/Frameworks/Python.framework/Versions/3.10/lib/python3.10/site-packages/praw/util/deprecate_args.py:46\u001b[0m, in \u001b[0;36m_deprecate_args.<locals>.wrapper.<locals>.wrapped\u001b[0;34m(*args, **kwargs)\u001b[0m\n\u001b[1;32m     39\u001b[0m     arg_string \u001b[38;5;241m=\u001b[39m _generate_arg_string(_old_args[: \u001b[38;5;28mlen\u001b[39m(args)])\n\u001b[1;32m     40\u001b[0m     warn(\n\u001b[1;32m     41\u001b[0m         \u001b[38;5;124mf\u001b[39m\u001b[38;5;124m\"\u001b[39m\u001b[38;5;124mPositional arguments for \u001b[39m\u001b[38;5;132;01m{\u001b[39;00mfunc\u001b[38;5;241m.\u001b[39m\u001b[38;5;18m__qualname__\u001b[39m\u001b[38;5;132;01m!r}\u001b[39;00m\u001b[38;5;124m will no longer be\u001b[39m\u001b[38;5;124m\"\u001b[39m\n\u001b[1;32m     42\u001b[0m         \u001b[38;5;124mf\u001b[39m\u001b[38;5;124m\"\u001b[39m\u001b[38;5;124m supported in PRAW 8.\u001b[39m\u001b[38;5;130;01m\\n\u001b[39;00m\u001b[38;5;124mCall this function with \u001b[39m\u001b[38;5;132;01m{\u001b[39;00marg_string\u001b[38;5;132;01m}\u001b[39;00m\u001b[38;5;124m.\u001b[39m\u001b[38;5;124m\"\u001b[39m,\n\u001b[1;32m     43\u001b[0m         \u001b[38;5;167;01mDeprecationWarning\u001b[39;00m,\n\u001b[1;32m     44\u001b[0m         stacklevel\u001b[38;5;241m=\u001b[39m\u001b[38;5;241m2\u001b[39m,\n\u001b[1;32m     45\u001b[0m     )\n\u001b[0;32m---> 46\u001b[0m \u001b[38;5;28;01mreturn\u001b[39;00m \u001b[43mfunc\u001b[49m\u001b[43m(\u001b[49m\u001b[38;5;241;43m*\u001b[39;49m\u001b[38;5;241;43m*\u001b[39;49m\u001b[38;5;28;43mdict\u001b[39;49m\u001b[43m(\u001b[49m\u001b[38;5;28;43mzip\u001b[39;49m\u001b[43m(\u001b[49m\u001b[43m_old_args\u001b[49m\u001b[43m,\u001b[49m\u001b[43m \u001b[49m\u001b[43margs\u001b[49m\u001b[43m)\u001b[49m\u001b[43m)\u001b[49m\u001b[43m,\u001b[49m\u001b[43m \u001b[49m\u001b[38;5;241;43m*\u001b[39;49m\u001b[38;5;241;43m*\u001b[39;49m\u001b[43mkwargs\u001b[49m\u001b[43m)\u001b[49m\n",
      "File \u001b[0;32m/Library/Frameworks/Python.framework/Versions/3.10/lib/python3.10/site-packages/praw/reddit.py:259\u001b[0m, in \u001b[0;36mReddit.__init__\u001b[0;34m(self, site_name, config_interpolation, requestor_class, requestor_kwargs, token_manager, **config_settings)\u001b[0m\n\u001b[1;32m    257\u001b[0m \u001b[38;5;28;01mfor\u001b[39;00m attribute \u001b[38;5;129;01min\u001b[39;00m (\u001b[38;5;124m\"\u001b[39m\u001b[38;5;124mclient_id\u001b[39m\u001b[38;5;124m\"\u001b[39m, \u001b[38;5;124m\"\u001b[39m\u001b[38;5;124muser_agent\u001b[39m\u001b[38;5;124m\"\u001b[39m):\n\u001b[1;32m    258\u001b[0m     \u001b[38;5;28;01mif\u001b[39;00m \u001b[38;5;28mgetattr\u001b[39m(\u001b[38;5;28mself\u001b[39m\u001b[38;5;241m.\u001b[39mconfig, attribute) \u001b[38;5;129;01min\u001b[39;00m (\u001b[38;5;28mself\u001b[39m\u001b[38;5;241m.\u001b[39mconfig\u001b[38;5;241m.\u001b[39mCONFIG_NOT_SET, \u001b[38;5;28;01mNone\u001b[39;00m):\n\u001b[0;32m--> 259\u001b[0m         \u001b[38;5;28;01mraise\u001b[39;00m MissingRequiredAttributeException(\n\u001b[1;32m    260\u001b[0m             required_message\u001b[38;5;241m.\u001b[39mformat(attribute)\n\u001b[1;32m    261\u001b[0m         )\n\u001b[1;32m    262\u001b[0m \u001b[38;5;28;01mif\u001b[39;00m \u001b[38;5;28mself\u001b[39m\u001b[38;5;241m.\u001b[39mconfig\u001b[38;5;241m.\u001b[39mclient_secret \u001b[38;5;129;01mis\u001b[39;00m \u001b[38;5;28mself\u001b[39m\u001b[38;5;241m.\u001b[39mconfig\u001b[38;5;241m.\u001b[39mCONFIG_NOT_SET:\n\u001b[1;32m    263\u001b[0m     msg \u001b[38;5;241m=\u001b[39m \u001b[38;5;124mf\u001b[39m\u001b[38;5;124m\"\u001b[39m\u001b[38;5;132;01m{\u001b[39;00mrequired_message\u001b[38;5;241m.\u001b[39mformat(\u001b[38;5;124m'\u001b[39m\u001b[38;5;124mclient_secret\u001b[39m\u001b[38;5;124m'\u001b[39m)\u001b[38;5;132;01m}\u001b[39;00m\u001b[38;5;130;01m\\n\u001b[39;00m\u001b[38;5;124mFor installed applications this value must be set to None via a keyword argument to the Reddit class constructor.\u001b[39m\u001b[38;5;124m\"\u001b[39m\n",
      "\u001b[0;31mMissingRequiredAttributeException\u001b[0m: Required configuration setting 'user_agent' missing. \nThis setting can be provided in a praw.ini file, as a keyword argument to the Reddit class constructor, or as an environment variable."
     ]
    }
   ],
   "source": [
    "import praw\n",
    "from dotenv import load_dotenv\n",
    "import os\n",
    "\n",
    "# Load environment variables from the .env file\n",
    "load_dotenv()\n",
    "\n",
    "# Retrieve credentials from environment variables\n",
    "CLIENT_ID = os.getenv('CLIENT_ID')\n",
    "CLIENT_SECRET = os.getenv('CLIENT_SECRET')\n",
    "USER_AGENT = os.getenv('USER_AGENT')\n",
    "\n",
    "# Authenticate with Reddit API\n",
    "reddit = praw.Reddit(\n",
    "    client_id=CLIENT_ID,\n",
    "    client_secret=CLIENT_SECRET,\n",
    "    user_agent=USER_AGENT\n",
    ")\n",
    "\n",
    "# Test connection\n",
    "print(\"Reddit API is read-only:\", reddit.read_only)"
   ]
  },
  {
   "cell_type": "markdown",
   "metadata": {},
   "source": [
    "## Step 2: Test Access to the Subreddits\n",
    "verify that we can access the two subreddits (`r/NetflixBestOf` and `r/television`) using the Reddit API."
   ]
  },
  {
   "cell_type": "code",
   "execution_count": null,
   "metadata": {},
   "outputs": [],
   "source": [
    "# Test access to the subreddits\n",
    "subreddits_to_test = ['NetflixBestOf', 'television']\n",
    "\n",
    "for subreddit_name in subreddits_to_test:\n",
    "    try:\n",
    "        subreddit = reddit.subreddit(subreddit_name)  # Access subreddit\n",
    "        print(f\"Successfully accessed subreddit: {subreddit.display_name}\")\n",
    "    except Exception as e:\n",
    "        print(f\"Error accessing subreddit {subreddit_name}: {e}\")"
   ]
  },
  {
   "cell_type": "markdown",
   "metadata": {},
   "source": [
    "### Step 2.1: Search for Posts with \"Mindhunter\" in the Title (Scenario 2)\n",
    "We will search the two subreddits for posts that include the title of the show (\"Mindhunter\") in their post titles.\n"
   ]
  },
  {
   "cell_type": "code",
   "execution_count": 11,
   "metadata": {},
   "outputs": [],
   "source": [
    "# install pandas if you haven't already\n",
    "#!pip install pandas"
   ]
  },
  {
   "cell_type": "code",
   "execution_count": null,
   "metadata": {},
   "outputs": [],
   "source": [
    "import pandas as pd\n",
    "\n",
    "# Search for posts with \"Mindhunter\" in the title\n",
    "show_title = \"Mindhunter\"  # The show we're testing\n",
    "subreddits_to_test = ['NetflixBestOf', 'television']\n",
    "posts_with_title = []  # List to store results\n",
    "\n",
    "for subreddit_name in subreddits_to_test:\n",
    "    print(f\"Searching in subreddit: {subreddit_name}\")\n",
    "    try:\n",
    "        subreddit = reddit.subreddit(subreddit_name)\n",
    "        for post in subreddit.search(show_title, limit=10):  # Limit to 10 posts\n",
    "            posts_with_title.append({\n",
    "                'Subreddit': subreddit_name,\n",
    "                'Title': post.title,\n",
    "                'Num_Comments': post.num_comments,\n",
    "                'Upvotes': post.score,\n",
    "                'Post_ID': post.id,\n",
    "                'Created_UTC': post.created_utc\n",
    "            })\n",
    "    except Exception as e:\n",
    "        print(f\"Error searching subreddit {subreddit_name}: {e}\")\n",
    "\n",
    "# Convert results to DataFrame for easier analysis\n",
    "if posts_with_title:\n",
    "    posts_df = pd.DataFrame(posts_with_title)\n",
    "    print(f\"Found {len(posts_df)} posts with '{show_title}' in the title:\")\n",
    "    display(posts_df)\n",
    "else:\n",
    "    print(f\"No posts with '{show_title}' in the title found.\")\n"
   ]
  },
  {
   "cell_type": "markdown",
   "metadata": {},
   "source": [
    "## Step 3.4.3: Search for Comments Mentioning \"Mindhunter\" (For scenario 1- assume no posts with Minhunter in title were found)\n",
    "We will search all posts in the two subreddits for comments that mention \"Mindhunter.\"\n"
   ]
  },
  {
   "cell_type": "code",
   "execution_count": null,
   "metadata": {},
   "outputs": [],
   "source": [
    "# Search all comments in a subreddit for mentions of \"Mindhunter\"\n",
    "show_title = \"Mindhunter\"  # The show we're testing\n",
    "subreddit_name = \"NetflixBestOf\"  # Choose one subreddit to test\n",
    "comments_with_show = []  # List to store matching comments\n",
    "\n",
    "try:\n",
    "    subreddit = reddit.subreddit(subreddit_name)\n",
    "    print(f\"Searching all comments in subreddit: {subreddit_name}\")\n",
    "\n",
    "    # Stream all comments from the subreddit (can be computationally expensive for large subreddits)\n",
    "    for comment in subreddit.comments(limit=5000):  # Limit to the most recent 50 comments for testing\n",
    "        if show_title.lower() in comment.body.lower():  # Check if show is mentioned\n",
    "            comments_with_show.append({\n",
    "                'Subreddit': subreddit_name,\n",
    "                'Comment': comment.body,\n",
    "                'Upvotes': comment.score,\n",
    "                'Comment_ID': comment.id,\n",
    "                'Created_UTC': comment.created_utc\n",
    "            })\n",
    "except Exception as e:\n",
    "    print(f\"Error accessing comments in subreddit {subreddit_name}: {e}\")\n",
    "\n",
    "# Convert results to a DataFrame for better readability\n",
    "if comments_with_show:\n",
    "    comments_df = pd.DataFrame(comments_with_show)\n",
    "    print(f\"Found {len(comments_df)} comments mentioning '{show_title}':\")\n",
    "    display(comments_df)\n",
    "else:\n",
    "    print(f\"No comments mentioning '{show_title}' found in subreddit {subreddit_name}.\")\n"
   ]
  }
 ],
 "metadata": {
  "kernelspec": {
   "display_name": ".venv",
   "language": "python",
   "name": "python3"
  },
  "language_info": {
   "codemirror_mode": {
    "name": "ipython",
    "version": 3
   },
   "file_extension": ".py",
   "mimetype": "text/x-python",
   "name": "python",
   "nbconvert_exporter": "python",
   "pygments_lexer": "ipython3",
   "version": "3.10.11"
  }
 },
 "nbformat": 4,
 "nbformat_minor": 2
}
